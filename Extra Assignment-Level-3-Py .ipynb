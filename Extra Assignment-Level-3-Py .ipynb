{
 "cells": [
  {
   "cell_type": "code",
   "execution_count": 8,
   "id": "9e7e9aaa-1a10-4a6b-a872-a2dc9a80c316",
   "metadata": {},
   "outputs": [
    {
     "name": "stdin",
     "output_type": "stream",
     "text": [
      "value: 10\n"
     ]
    },
    {
     "name": "stdout",
     "output_type": "stream",
     "text": [
      "correct\n"
     ]
    }
   ],
   "source": [
    "#print 'correct' \n",
    "\n",
    "i=int(input(\"value:\"))\n",
    "if i==10:\n",
    "    print(\"correct\")\n",
    "else:\n",
    "    print(\"wrong\")\n"
   ]
  },
  {
   "cell_type": "code",
   "execution_count": 21,
   "id": "a5c85eac-353f-4501-8351-a3ebf6daf348",
   "metadata": {},
   "outputs": [
    {
     "name": "stdin",
     "output_type": "stream",
     "text": [
      "enter the password: HOPE@123\n"
     ]
    },
    {
     "name": "stdout",
     "output_type": "stream",
     "text": [
      "your password is correct\n"
     ]
    }
   ],
   "source": [
    "#check the password, usng if and else\n",
    "\n",
    "password =input(\"enter the password:\")\n",
    "if password==\"HOPE@123\":\n",
    "   print(\"your password is correct\")\n",
    "else:\n",
    "  print(\"your password is wrong\")\n",
    "                "
   ]
  },
  {
   "cell_type": "code",
   "execution_count": 28,
   "id": "4b42ffbc-cf79-4487-90b6-d63ed91d5cee",
   "metadata": {},
   "outputs": [
    {
     "name": "stdin",
     "output_type": "stream",
     "text": [
      "age: 20\n"
     ]
    },
    {
     "name": "stdout",
     "output_type": "stream",
     "text": [
      "audlt\n"
     ]
    }
   ],
   "source": [
    "#Catgory of pepole by their age\n",
    "\n",
    "age=int(input(\"age:\"))\n",
    "if age <18:\n",
    "    print(\"children\")\n",
    "elif age<30:\n",
    "    print('audlt')\n",
    "elif age<60:\n",
    "    print(\"citizen\")\n",
    "else:\n",
    "    print(\"senoir citizen\")\n"
   ]
  },
  {
   "cell_type": "code",
   "execution_count": 3,
   "id": "cabfeb1c-d63a-4285-a185-c60d8f4d2e37",
   "metadata": {},
   "outputs": [
    {
     "name": "stdin",
     "output_type": "stream",
     "text": [
      "enter any number: 1\n"
     ]
    },
    {
     "name": "stdout",
     "output_type": "stream",
     "text": [
      " positive\n"
     ]
    }
   ],
   "source": [
    "#find whether given number is positive or negative\n",
    "\n",
    "i=int (input(\"enter any number:\"))\n",
    "if i>=0:\n",
    "         print(\" positive\")\n",
    "else:\n",
    "    print(\"negative\")\n",
    "         "
   ]
  },
  {
   "cell_type": "code",
   "execution_count": 2,
   "id": "6ed638b4-866e-4be4-b79e-fdc8f5ff56f9",
   "metadata": {},
   "outputs": [
    {
     "name": "stdin",
     "output_type": "stream",
     "text": [
      "enter the number to ckeck: 22\n"
     ]
    },
    {
     "name": "stdout",
     "output_type": "stream",
     "text": [
      "NO is not divisible by 5\n"
     ]
    }
   ],
   "source": [
    "#check whether the given number is divisible by 5\n",
    "\n",
    "i=int(input('enter the number to ckeck:'))\n",
    "if ((i%5)==0):\n",
    "\n",
    "    print('NO is divisible by 5')\n",
    "else:\n",
    "    print('NO is not divisible by 5')"
   ]
  },
  {
   "cell_type": "code",
   "execution_count": null,
   "id": "49bcbd41-0715-42fd-b9a3-f48fdfda653d",
   "metadata": {},
   "outputs": [],
   "source": []
  },
  {
   "cell_type": "code",
   "execution_count": null,
   "id": "919686f0-6813-4e27-a8ea-932863c0c7eb",
   "metadata": {},
   "outputs": [],
   "source": []
  }
 ],
 "metadata": {
  "kernelspec": {
   "display_name": "Python [conda env:base] *",
   "language": "python",
   "name": "conda-base-py"
  },
  "language_info": {
   "codemirror_mode": {
    "name": "ipython",
    "version": 3
   },
   "file_extension": ".py",
   "mimetype": "text/x-python",
   "name": "python",
   "nbconvert_exporter": "python",
   "pygments_lexer": "ipython3",
   "version": "3.13.5"
  }
 },
 "nbformat": 4,
 "nbformat_minor": 5
}
