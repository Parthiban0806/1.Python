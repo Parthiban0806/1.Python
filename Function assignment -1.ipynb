{
 "cells": [
  {
   "cell_type": "code",
   "execution_count": 140,
   "id": "c482d923-55ba-4933-88c0-7bfbb0568290",
   "metadata": {},
   "outputs": [],
   "source": [
    "#create a function,and list out the items in the list\n",
    "\n",
    "lists=[\"machine learning\", \"neural networks\",\"vision\",\"robotics\",\"speech processing\",\"natural lnaguage processing\"]\n",
    "\n",
    "def subfields():\n",
    "    print(\"sub-fields in AI are :\") \n",
    "    for sub in lists:\n",
    "        print(sub)\n",
    "    \n",
    "\n",
    "\n"
   ]
  },
  {
   "cell_type": "code",
   "execution_count": 141,
   "id": "73d38288-b86e-476b-b41a-f597c932e4a9",
   "metadata": {},
   "outputs": [
    {
     "name": "stdout",
     "output_type": "stream",
     "text": [
      "sub-fields in AI are :\n",
      "machine learning\n",
      "neural networks\n",
      "vision\n",
      "robotics\n",
      "speech processing\n",
      "natural lnaguage processing\n"
     ]
    }
   ],
   "source": [
    "\n",
    "subfields()"
   ]
  },
  {
   "cell_type": "code",
   "execution_count": 402,
   "id": "732d80fc-dd39-4e3e-a739-6b3472bc7e62",
   "metadata": {},
   "outputs": [],
   "source": [
    "# create a function that checks wheather the given number is odd or even\n",
    "def oddeven():\n",
    "    num=int(input(\"enter the number:\"))\n",
    "    if num%2==0:\n",
    "         print(num,\"is even number\")\n",
    "         message=\"even\"\n",
    "    else:\n",
    "         print(num,\"is odd number\")\n",
    "         message=\"odd\"\n",
    "    return message   \n",
    "   \n",
    "       \n"
   ]
  },
  {
   "cell_type": "code",
   "execution_count": 403,
   "id": "f62f6ba1-4364-4334-9ad5-7a48b295cae8",
   "metadata": {},
   "outputs": [
    {
     "name": "stdin",
     "output_type": "stream",
     "text": [
      "enter the number: 52452\n"
     ]
    },
    {
     "name": "stdout",
     "output_type": "stream",
     "text": [
      "52452 is even number\n"
     ]
    },
    {
     "data": {
      "text/plain": [
       "'even'"
      ]
     },
     "execution_count": 403,
     "metadata": {},
     "output_type": "execute_result"
    }
   ],
   "source": [
    "oddeven()"
   ]
  },
  {
   "cell_type": "code",
   "execution_count": 404,
   "id": "523ac970-97ad-4e56-b28e-735510e3dfd3",
   "metadata": {},
   "outputs": [],
   "source": [
    "# Create a function that tells elegibility of marriage for male and female according to their age limit like 21 for male and 18 for female.\n",
    "def eligible():\n",
    "    Gender=input(\"your gender :\")\n",
    "    age=int(input(\"your age :\"))\n",
    "    if (Gender==\"male\" and age>21):\n",
    "        print(\"eligible\")\n",
    "        vote=\"ELIGIBLE\"\n",
    "    elif (Gender==\"female\"and age>18):\n",
    "        print(\"eligible\")\n",
    "        vote=\"ELIGIBLE\"\n",
    "    else:\n",
    "        print(\"not eligible\")\n",
    "        vote=\" NOT ELIGIBLE\"\n",
    "        return vote\n",
    "    \n"
   ]
  },
  {
   "cell_type": "code",
   "execution_count": 399,
   "id": "c876d254-968b-4340-a9c8-a61a7df46c09",
   "metadata": {},
   "outputs": [
    {
     "name": "stdin",
     "output_type": "stream",
     "text": [
      "your gender : male\n",
      "your age : 20\n"
     ]
    },
    {
     "name": "stdout",
     "output_type": "stream",
     "text": [
      "not eligible\n"
     ]
    },
    {
     "data": {
      "text/plain": [
       "' NOT ELIGIBLE'"
      ]
     },
     "execution_count": 399,
     "metadata": {},
     "output_type": "execute_result"
    }
   ],
   "source": [
    "eligible()"
   ]
  },
  {
   "cell_type": "code",
   "execution_count": 387,
   "id": "0c54339c-90da-4af1-8784-2f2197cc2d9c",
   "metadata": {},
   "outputs": [],
   "source": [
    "#calculate the percentage of your 10th mark\n",
    "\n",
    "def percentage():\n",
    "    s1=int(input(\"subject1=\"))\n",
    "    s2=int(input(\"subject2=\"))\n",
    "    s3=int(input(\"subject3=\"))\n",
    "    s4=int(input(\"subject4=\"))\n",
    "    s5=int(input(\"subject5=\"))\n",
    "    total=s1+s2+s3+s4+s5\n",
    "    print(\"total:\",total)\n",
    "    percentage=total/500*100\n",
    "    print(\"precentage:\",percentage)\n",
    "    \n",
    "    \n",
    "  "
   ]
  },
  {
   "cell_type": "code",
   "execution_count": 388,
   "id": "b9e904a3-a20a-4135-8dd7-9f3064a05180",
   "metadata": {},
   "outputs": [
    {
     "name": "stdin",
     "output_type": "stream",
     "text": [
      "subject1= 98\n",
      "subject2= 87\n",
      "subject3= 95\n",
      "subject4= 95\n",
      "subject5= 93\n"
     ]
    },
    {
     "name": "stdout",
     "output_type": "stream",
     "text": [
      "total: 468\n",
      "precentage: 93.60000000000001\n"
     ]
    }
   ],
   "source": [
    "percentage()\n",
    "\n",
    "              "
   ]
  },
  {
   "cell_type": "code",
   "execution_count": 407,
   "id": "82ad8ebf-59b5-4aba-99c4-f9adaae0b377",
   "metadata": {},
   "outputs": [],
   "source": [
    "#print area of perimeter of triangle using function\n",
    "def triangle():\n",
    " height=int(input(\"height:\"))\n",
    " breadth=int(input(\"breadth:\"))\n",
    " area=height*breadth/2\n",
    " print(\"area of triangle:\",area)\n",
    " H1=int(input(\"height1:\"))\n",
    " H2=int(input(\"height2:\"))\n",
    " B=int(input(\"breadth:\"))\n",
    " perimeter=H1+H2+B\n",
    " print(\"perimeter of triangle:\",perimeter)\n",
    " triangle"
   ]
  },
  {
   "cell_type": "code",
   "execution_count": 408,
   "id": "84b40aca-9ad0-4acf-8e82-24ae008b2f62",
   "metadata": {},
   "outputs": [
    {
     "name": "stdin",
     "output_type": "stream",
     "text": [
      "height: 32\n",
      "breadth: 34\n"
     ]
    },
    {
     "name": "stdout",
     "output_type": "stream",
     "text": [
      "area of triangle: 544.0\n"
     ]
    },
    {
     "name": "stdin",
     "output_type": "stream",
     "text": [
      "height1: 2\n",
      "height2: 4\n",
      "breadth: 4\n"
     ]
    },
    {
     "name": "stdout",
     "output_type": "stream",
     "text": [
      "perimeter of triangle: 10\n"
     ]
    }
   ],
   "source": [
    "triangle()\n"
   ]
  }
 ],
 "metadata": {
  "kernelspec": {
   "display_name": "Python [conda env:base] *",
   "language": "python",
   "name": "conda-base-py"
  },
  "language_info": {
   "codemirror_mode": {
    "name": "ipython",
    "version": 3
   },
   "file_extension": ".py",
   "mimetype": "text/x-python",
   "name": "python",
   "nbconvert_exporter": "python",
   "pygments_lexer": "ipython3",
   "version": "3.13.5"
  }
 },
 "nbformat": 4,
 "nbformat_minor": 5
}
