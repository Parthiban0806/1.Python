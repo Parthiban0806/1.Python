{
 "cells": [
  {
   "cell_type": "code",
   "execution_count": null,
   "id": "ae22b8ee-becf-4d51-9057-b88d0172e04e",
   "metadata": {
    "panel-layout": {
     "height": 0,
     "visible": true,
     "width": 100
    }
   },
   "outputs": [],
   "source": [
    "print(\"Welcome to assignment-1\")"
   ]
  },
  {
   "cell_type": "code",
   "execution_count": null,
   "id": "80abda57-4e34-4700-8b93-1b98d8c4875d",
   "metadata": {
    "panel-layout": {
     "height": 0,
     "visible": true,
     "width": 100
    }
   },
   "outputs": [],
   "source": [
    "#Addition \n",
    "num1=10\n",
    "print(\"num1= \",num1)\n",
    "num2=30\n",
    "print(\"num2= \",num2)\n",
    "add=num1+num2\n",
    "print(\"Add= \",add)"
   ]
  },
  {
   "cell_type": "code",
   "execution_count": 41,
   "id": "3b1cf93a-b632-4b19-bba0-897cf1c8a7f3",
   "metadata": {},
   "outputs": [
    {
     "name": "stdin",
     "output_type": "stream",
     "text": [
      "enter the BMI Index: 34\n"
     ]
    },
    {
     "name": "stdout",
     "output_type": "stream",
     "text": [
      "obesity class 1\n"
     ]
    }
   ],
   "source": [
    "#BMI MASS INDEX\n",
    "\n",
    "BMI=int(input(\"enter the BMI Index:\"))\n",
    "if(BMI<18.5):\n",
    "     print('under weight')\n",
    "elif(BMI <24.9):\n",
    "     print('normal weight')\n",
    "elif(BMI <29.9):\n",
    "      print('over weight')\n",
    "elif (BMI<34.9):\n",
    "     print('obesity class 1')\n",
    "elif (BMI <39.9):\n",
    "     print('obesity class 2') \n",
    "else:\n",
    "     print('obesity class 3')\n",
    "    "
   ]
  },
  {
   "cell_type": "code",
   "execution_count": null,
   "id": "9a61177a-8a9e-4c2a-9e83-00ba74304409",
   "metadata": {},
   "outputs": [],
   "source": []
  }
 ],
 "metadata": {
  "kernelspec": {
   "display_name": "Python [conda env:base] *",
   "language": "python",
   "name": "conda-base-py"
  },
  "language_info": {
   "codemirror_mode": {
    "name": "ipython",
    "version": 3
   },
   "file_extension": ".py",
   "mimetype": "text/x-python",
   "name": "python",
   "nbconvert_exporter": "python",
   "pygments_lexer": "ipython3",
   "version": "3.13.5"
  },
  "panel-cell-order": [
   "ae22b8ee-becf-4d51-9057-b88d0172e04e",
   "80abda57-4e34-4700-8b93-1b98d8c4875d",
   "5f2aeeed-f323-4ae8-86d8-e617266fb06a"
  ]
 },
 "nbformat": 4,
 "nbformat_minor": 5
}
