{
 "cells": [
  {
   "cell_type": "code",
   "execution_count": 5,
   "id": "d70dddcc-66e7-4759-9b31-3aea5d6e4787",
   "metadata": {},
   "outputs": [],
   "source": [
    "#if\n",
    "if():\n",
    "    print()"
   ]
  },
  {
   "cell_type": "code",
   "execution_count": 33,
   "id": "0613e287-1cd0-4227-ae71-0516d2016a54",
   "metadata": {},
   "outputs": [
    {
     "name": "stdin",
     "output_type": "stream",
     "text": [
      "enter the age  18\n"
     ]
    },
    {
     "name": "stdout",
     "output_type": "stream",
     "text": [
      "audlt\n"
     ]
    }
   ],
   "source": [
    "age=int(input(\"enter the age \"))\n",
    "\n",
    "if (age==18):\n",
    "    # == means comparision\n",
    "    print(\"audlt\")\n",
    "    "
   ]
  },
  {
   "cell_type": "code",
   "execution_count": 34,
   "id": "3c9bffda-728b-4a1f-8caf-9d7fbb3ba7f8",
   "metadata": {},
   "outputs": [],
   "source": [
    "#if-else"
   ]
  },
  {
   "cell_type": "code",
   "execution_count": 50,
   "id": "e44a0ae9-7c67-448c-af5a-68dbe8fdf8a7",
   "metadata": {},
   "outputs": [
    {
     "name": "stdin",
     "output_type": "stream",
     "text": [
      "the mark is 25\n"
     ]
    },
    {
     "name": "stdout",
     "output_type": "stream",
     "text": [
      "pass\n"
     ]
    }
   ],
   "source": [
    "mark=int (input(\"the mark is\"))\n",
    "if (mark==50):\n",
    "    print(\"centem\")\n",
    "if (mark<20):\n",
    "    print('fail')\n",
    "else:\n",
    "    print('pass')\n",
    "\n",
    "\n",
    "    "
   ]
  },
  {
   "cell_type": "code",
   "execution_count": 51,
   "id": "fe6f8ce3-c7c8-4da0-b151-4e20e12cb79c",
   "metadata": {},
   "outputs": [
    {
     "name": "stdout",
     "output_type": "stream",
     "text": [
      "\n"
     ]
    }
   ],
   "source": [
    "#if-elif\n",
    "\n",
    "if():\n",
    "    print()\n",
    "elif():\n",
    "    print()\n",
    "else:\n",
    "    print()"
   ]
  },
  {
   "cell_type": "code",
   "execution_count": 63,
   "id": "8479404c-21fc-4097-98a9-06fbc638bb13",
   "metadata": {},
   "outputs": [
    {
     "name": "stdin",
     "output_type": "stream",
     "text": [
      "the mark is 95\n"
     ]
    },
    {
     "name": "stdout",
     "output_type": "stream",
     "text": [
      "super\n"
     ]
    }
   ],
   "source": [
    "mark=int (input(\"the mark is\"))\n",
    "if (mark<20):\n",
    "    print(\"fail\")\n",
    "elif (mark<50):\n",
    "    print('average')\n",
    "elif (mark<80):\n",
    "    print(\"above average\")\n",
    "else:\n",
    "    print('super')"
   ]
  },
  {
   "cell_type": "code",
   "execution_count": 65,
   "id": "45a85239-d62f-417a-8843-d963d0827cf9",
   "metadata": {},
   "outputs": [],
   "source": [
    "#for loop"
   ]
  },
  {
   "cell_type": "code",
   "execution_count": 67,
   "id": "bfabfb98-6cfd-4867-bb85-34a8d49ffd83",
   "metadata": {},
   "outputs": [],
   "source": [
    "lists=[15,35,64,95,25,3,55,35]"
   ]
  },
  {
   "cell_type": "code",
   "execution_count": 69,
   "id": "71607600-d2ea-4c8e-bbb8-a6cbfff4c025",
   "metadata": {},
   "outputs": [
    {
     "name": "stdout",
     "output_type": "stream",
     "text": [
      "15\n",
      "35\n",
      "64\n",
      "95\n",
      "25\n",
      "3\n",
      "55\n",
      "35\n"
     ]
    }
   ],
   "source": [
    "for temp in lists:\n",
    "    print(temp)"
   ]
  },
  {
   "cell_type": "code",
   "execution_count": 71,
   "id": "8c9e4eaf-3372-4b6e-a22d-156f9626d00f",
   "metadata": {},
   "outputs": [
    {
     "name": "stdout",
     "output_type": "stream",
     "text": [
      "fail\n",
      "average\n",
      "above average\n",
      "super\n",
      "average\n",
      "fail\n",
      "above average\n",
      "average\n"
     ]
    }
   ],
   "source": [
    "for mark in lists:\n",
    "    if (mark<20):\n",
    "        print(\"fail\")\n",
    "    elif (mark<50):\n",
    "        print('average')\n",
    "    elif (mark<80):\n",
    "        print(\"above average\")\n",
    "    else:\n",
    "        print('super')\n"
   ]
  }
 ],
 "metadata": {
  "kernelspec": {
   "display_name": "Python [conda env:base] *",
   "language": "python",
   "name": "conda-base-py"
  },
  "language_info": {
   "codemirror_mode": {
    "name": "ipython",
    "version": 3
   },
   "file_extension": ".py",
   "mimetype": "text/x-python",
   "name": "python",
   "nbconvert_exporter": "python",
   "pygments_lexer": "ipython3",
   "version": "3.13.5"
  }
 },
 "nbformat": 4,
 "nbformat_minor": 5
}
