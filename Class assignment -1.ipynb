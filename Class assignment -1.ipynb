{
 "cells": [
  {
   "cell_type": "code",
   "execution_count": 2,
   "id": "4eb6d727-c701-4eae-9e82-b161179ea96c",
   "metadata": {},
   "outputs": [],
   "source": [
    "#create a class and function,and list out the items in the list\n",
    "\n",
    "\n",
    "class subfieldsInAI():\n",
    "    def subfields():\n",
    "        lists=[\"machine learning\", \"neural networks\",\"vision\",\"robotics\",\"speech processing\",\"natural lnaguage processing\"]    \n",
    "        print(\"sub-fields in AI are :\") \n",
    "        for sub in lists:\n",
    "            print(sub)"
   ]
  },
  {
   "cell_type": "code",
   "execution_count": 2,
   "id": "4bf18e3e-ec4d-439e-8090-05853fbd6465",
   "metadata": {},
   "outputs": [
    {
     "name": "stdout",
     "output_type": "stream",
     "text": [
      "sub-fields in AI are :\n",
      "machine learning\n",
      "neural networks\n",
      "vision\n",
      "robotics\n",
      "speech processing\n",
      "natural lnaguage processing\n"
     ]
    }
   ],
   "source": [
    "subfieldsInAI.subfields()"
   ]
  },
  {
   "cell_type": "code",
   "execution_count": 7,
   "id": "1ec039e3-1f27-4ecd-97ec-eb100c03b592",
   "metadata": {},
   "outputs": [],
   "source": [
    "# create a class and function that checks wheather the given number is odd or even\n",
    "\n",
    "class oddeven():\n",
    "    def oddeven():\n",
    "        num=int(input(\"enter the number:\"))\n",
    "        if num%2==0:\n",
    "             print(num,\"is even number\")\n",
    "             message=\"even\"\n",
    "        else:\n",
    "             print(num,\"is odd number\")\n",
    "             message=\"odd\"\n",
    "        return message "
   ]
  },
  {
   "cell_type": "code",
   "execution_count": 8,
   "id": "82c4f483-b026-4432-96f6-d57261f5a0a0",
   "metadata": {},
   "outputs": [
    {
     "name": "stdin",
     "output_type": "stream",
     "text": [
      "enter the number: 52452\n"
     ]
    },
    {
     "name": "stdout",
     "output_type": "stream",
     "text": [
      "52452 is even number\n"
     ]
    },
    {
     "data": {
      "text/plain": [
       "'even'"
      ]
     },
     "execution_count": 8,
     "metadata": {},
     "output_type": "execute_result"
    }
   ],
   "source": [
    "oddeven.oddeven()\n"
   ]
  },
  {
   "cell_type": "code",
   "execution_count": 9,
   "id": "03fd255f-d03f-4c9e-a3d2-5f9692049e9b",
   "metadata": {},
   "outputs": [],
   "source": [
    "# Create a class and function that tells elegibility of marriage for male and female according to their age limit like 21 for male and 18 for female.\n",
    "\n",
    "class ELIGIBILITYOFMARRIAGE():\n",
    "    def eligible():\n",
    "        Gender=input(\"your gender :\")\n",
    "        age=int(input(\"your age :\"))\n",
    "        if (Gender==\"male\" and age>21):\n",
    "            print(\"eligible\")\n",
    "            vote=\"ELIGIBLE\"\n",
    "        elif (Gender==\"female\"and age>18):\n",
    "            print(\"eligible\")\n",
    "            vote=\"ELIGIBLE\"\n",
    "        else:\n",
    "            print(\"not eligible\")\n",
    "            vote=\" NOT ELIGIBLE\"\n",
    "            return vote"
   ]
  },
  {
   "cell_type": "code",
   "execution_count": 10,
   "id": "07943df3-636e-4003-a203-b10e9cffbe48",
   "metadata": {},
   "outputs": [
    {
     "name": "stdin",
     "output_type": "stream",
     "text": [
      "your gender : male\n",
      "your age : 20\n"
     ]
    },
    {
     "name": "stdout",
     "output_type": "stream",
     "text": [
      "not eligible\n"
     ]
    },
    {
     "data": {
      "text/plain": [
       "' NOT ELIGIBLE'"
      ]
     },
     "execution_count": 10,
     "metadata": {},
     "output_type": "execute_result"
    }
   ],
   "source": [
    "ELIGIBILITYOFMARRIAGE.eligible()"
   ]
  },
  {
   "cell_type": "code",
   "execution_count": 12,
   "id": "68ebe952-6248-4820-b7e0-36ad8e39c618",
   "metadata": {},
   "outputs": [],
   "source": [
    "#calculate the percentage of your 10th mark\n",
    "\n",
    "class Findpercentage():\n",
    "    def percentage():\n",
    "        s1=int(input(\"subject1=\"))\n",
    "        s2=int(input(\"subject2=\"))\n",
    "        s3=int(input(\"subject3=\"))\n",
    "        s4=int(input(\"subject4=\"))\n",
    "        s5=int(input(\"subject5=\"))\n",
    "        total=s1+s2+s3+s4+s5\n",
    "        print(\"total:\",total)\n",
    "        percentage=total/500*100\n",
    "        print(\"precentage:\",percentage)"
   ]
  },
  {
   "cell_type": "code",
   "execution_count": 13,
   "id": "e37d8d98-9625-4ae1-82d3-b0cf2cffc80e",
   "metadata": {},
   "outputs": [
    {
     "name": "stdin",
     "output_type": "stream",
     "text": [
      "subject1= 98\n",
      "subject2= 87\n",
      "subject3= 95\n",
      "subject4= 95\n",
      "subject5= 93\n"
     ]
    },
    {
     "name": "stdout",
     "output_type": "stream",
     "text": [
      "total: 468\n",
      "precentage: 93.60000000000001\n"
     ]
    }
   ],
   "source": [
    "Findpercentage.percentage()"
   ]
  },
  {
   "cell_type": "code",
   "execution_count": 4,
   "id": "d2045a8a-f03c-4724-96fc-2de9d4aea513",
   "metadata": {},
   "outputs": [],
   "source": [
    "#print area of perimeter of triangle using class and function\n",
    "\n",
    "class triangle():\n",
    "    \n",
    "    def triangle():\n",
    "        \n",
    "     height=int(input(\"height:\"))\n",
    "     breadth=int(input(\"breadth:\"))\n",
    "     area=height*breadth/2\n",
    "     print(\"area of triangle:\",area)\n",
    "     H1=int(input(\"height1:\"))\n",
    "     H2=int(input(\"height2:\"))\n",
    "     B=int(input(\"breadth:\"))\n",
    "     perimeter=H1+H2+B\n",
    "     print(\"perimeter of triangle:\",perimeter)\n",
    "    "
   ]
  },
  {
   "cell_type": "code",
   "execution_count": 15,
   "id": "1b8f0130-d21d-4c55-b0e2-00e54663ae3b",
   "metadata": {},
   "outputs": [
    {
     "name": "stdin",
     "output_type": "stream",
     "text": [
      "height: 32\n",
      "breadth: 34\n"
     ]
    },
    {
     "name": "stdout",
     "output_type": "stream",
     "text": [
      "area of triangle: 544.0\n"
     ]
    },
    {
     "name": "stdin",
     "output_type": "stream",
     "text": [
      "height1: 2\n",
      "height2: 4\n",
      "breadth: 4\n"
     ]
    },
    {
     "name": "stdout",
     "output_type": "stream",
     "text": [
      "perimeter of triangle: 10\n"
     ]
    }
   ],
   "source": [
    "triangle.triangle()"
   ]
  }
 ],
 "metadata": {
  "kernelspec": {
   "display_name": "Python [conda env:base] *",
   "language": "python",
   "name": "conda-base-py"
  },
  "language_info": {
   "codemirror_mode": {
    "name": "ipython",
    "version": 3
   },
   "file_extension": ".py",
   "mimetype": "text/x-python",
   "name": "python",
   "nbconvert_exporter": "python",
   "pygments_lexer": "ipython3",
   "version": "3.13.5"
  }
 },
 "nbformat": 4,
 "nbformat_minor": 5
}
