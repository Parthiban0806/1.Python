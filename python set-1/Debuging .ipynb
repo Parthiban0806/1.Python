{
 "cells": [
  {
   "cell_type": "code",
   "execution_count": null,
   "id": "5ead9991-1d20-4d82-9857-7079046fc7e9",
   "metadata": {},
   "outputs": [],
   "source": [
    "#1.Find the error in the following Python code:\n",
    "\n",
    " for i in range(5)\n",
    "    print(i)"
   ]
  },
  {
   "cell_type": "code",
   "execution_count": 2,
   "id": "cae386d0-d139-4003-bd02-94dd2370f463",
   "metadata": {},
   "outputs": [
    {
     "name": "stdout",
     "output_type": "stream",
     "text": [
      "0\n",
      "1\n",
      "2\n",
      "3\n",
      "4\n"
     ]
    }
   ],
   "source": [
    "#corrected code:\n",
    "\n",
    "for i in range(5):\n",
    "    print(i)"
   ]
  },
  {
   "cell_type": "code",
   "execution_count": null,
   "id": "f4f3d3cb-9a56-46b9-984a-2a22647f7b8e",
   "metadata": {},
   "outputs": [],
   "source": [
    "#2.What will be the output of this code?\n",
    "\n",
    "a = 10\n",
    "b = \"5\"\n",
    "print(a + b)"
   ]
  },
  {
   "cell_type": "code",
   "execution_count": 3,
   "id": "5d9ecf5a-1928-4a7c-9ac3-3ef7e567a0dd",
   "metadata": {},
   "outputs": [
    {
     "name": "stdout",
     "output_type": "stream",
     "text": [
      "15\n"
     ]
    }
   ],
   "source": [
    "#corrected code:\n",
    "\n",
    "a=10\n",
    "b=5\n",
    "print(a+b)\n"
   ]
  },
  {
   "cell_type": "code",
   "execution_count": null,
   "id": "7a14439b-c05e-4cb1-8387-44f36a339e69",
   "metadata": {},
   "outputs": [],
   "source": [
    "#3.What is the issue in this Python snippet?\n",
    "\n",
    " def add_numbers(a, b)\n",
    "    return a + b\n"
   ]
  },
  {
   "cell_type": "code",
   "execution_count": 11,
   "id": "15288156-f46f-48c4-83c8-f40c7cd8dc67",
   "metadata": {},
   "outputs": [],
   "source": [
    "#corrected code:\n",
    "\n",
    "def add_numbers(a,b):\n",
    "    reurn (a + b)"
   ]
  },
  {
   "cell_type": "code",
   "execution_count": null,
   "id": "910ffa50-22bf-4a61-9d33-a69efabb3b5e",
   "metadata": {},
   "outputs": [],
   "source": [
    "#4.Identify the bug in the following Python code:\n",
    "\n",
    " numbers = [1, 2, 3, 4]\n",
    "print(numbers[4])"
   ]
  },
  {
   "cell_type": "code",
   "execution_count": 53,
   "id": "580829e7-a899-40a1-a56f-ef5f9fe9cd74",
   "metadata": {},
   "outputs": [
    {
     "name": "stdout",
     "output_type": "stream",
     "text": [
      "4\n"
     ]
    }
   ],
   "source": [
    "#corrected code:\n",
    "\n",
    "numbers=[1,2,3,4,]\n",
    "print(numbers[3])"
   ]
  },
  {
   "cell_type": "code",
   "execution_count": null,
   "id": "eac30d42-b2f8-4508-9049-51668efecdb3",
   "metadata": {},
   "outputs": [],
   "source": [
    "#5.Find the error in the following Python code:\n",
    "print \"Hello, World!\""
   ]
  },
  {
   "cell_type": "code",
   "execution_count": 19,
   "id": "8c988bb6-f22f-4c6e-8cad-27159176fb3c",
   "metadata": {},
   "outputs": [
    {
     "name": "stdout",
     "output_type": "stream",
     "text": [
      "hello,world!\n"
     ]
    }
   ],
   "source": [
    "#corrected code:\n",
    "\n",
    "print (\"hello,world!\")"
   ]
  },
  {
   "cell_type": "code",
   "execution_count": null,
   "id": "144b7726-edda-465e-acd8-64cf7a5514ea",
   "metadata": {},
   "outputs": [],
   "source": [
    "#6.Find the error in the following Python code:\n",
    "x = 5 / 0"
   ]
  },
  {
   "cell_type": "code",
   "execution_count": 23,
   "id": "94b41b6d-9d63-4f39-9692-ab8aade616df",
   "metadata": {},
   "outputs": [],
   "source": [
    "#corrected code:\n",
    "\n",
    "x=5 / 1\n"
   ]
  },
  {
   "cell_type": "code",
   "execution_count": null,
   "id": "3310e656-d546-4f49-b56c-93f3113bb63f",
   "metadata": {},
   "outputs": [],
   "source": [
    "#7.Find the error in the following Python code:name = \"Alice\"\n",
    "age = 25\n",
    "print(\"Name: \" + name + \", Age: \" + age)\n"
   ]
  },
  {
   "cell_type": "code",
   "execution_count": 64,
   "id": "626a1d82-a2b4-49a9-acfb-f9002db6376a",
   "metadata": {},
   "outputs": [
    {
     "name": "stdout",
     "output_type": "stream",
     "text": [
      "name:alice age:25\n"
     ]
    }
   ],
   "source": [
    "#corrected code:\n",
    "\n",
    "name=\"alice\"\n",
    "age=25\n",
    "print(\"name:\"+name ,\"age:\" +str(age))"
   ]
  },
  {
   "cell_type": "code",
   "execution_count": null,
   "id": "27139b1e-91c9-454f-b568-c14e88df4770",
   "metadata": {},
   "outputs": [],
   "source": [
    "#8.Find the error\n",
    "for i in range(1, 10, -1):\n",
    "    print(i)"
   ]
  },
  {
   "cell_type": "code",
   "execution_count": 55,
   "id": "0929a6fb-cc49-4317-acd3-0c0a0d1cbe90",
   "metadata": {},
   "outputs": [
    {
     "name": "stdout",
     "output_type": "stream",
     "text": [
      "10\n",
      "9\n",
      "8\n",
      "7\n",
      "6\n",
      "5\n",
      "4\n",
      "3\n",
      "2\n"
     ]
    }
   ],
   "source": [
    "#corrected code:\n",
    "\n",
    "for  i in range(10,1,-1):\n",
    "    print(i)"
   ]
  },
  {
   "cell_type": "code",
   "execution_count": null,
   "id": "4890c6cf-4ba6-4c4b-ac47-9a04f817ce1d",
   "metadata": {},
   "outputs": [],
   "source": [
    "#9. Find the error in the following Python code:\n",
    "x = 10\n",
    "if x = 5:\n",
    "    print(\"x is 5\")"
   ]
  },
  {
   "cell_type": "code",
   "execution_count": 49,
   "id": "6a81f4bc-08da-4f7c-b552-d98fcfaeada2",
   "metadata": {},
   "outputs": [],
   "source": [
    "#corrected code:\n",
    "\n",
    "x=10\n",
    "if (x==5):\n",
    "    print(\"x is 5\")"
   ]
  },
  {
   "cell_type": "code",
   "execution_count": null,
   "id": "e066413f-5537-4f97-80bf-cb8cc288fd4d",
   "metadata": {},
   "outputs": [],
   "source": [
    "#10. Identify the error in the following function definition:\n",
    "\n",
    "def greet(name)\n",
    "    print(\"Hello, \" + name)"
   ]
  },
  {
   "cell_type": "code",
   "execution_count": 61,
   "id": "fafd1dff-ffef-45d4-aca3-5bfbbc79db59",
   "metadata": {},
   "outputs": [],
   "source": [
    "#corrected code:\n",
    "\n",
    "\n",
    "def greet(name):\n",
    "    print(\"hello, \"+ name)\n"
   ]
  },
  {
   "cell_type": "code",
   "execution_count": 66,
   "id": "4215e9a0-a2ed-4690-8b9c-f249e5bab38a",
   "metadata": {},
   "outputs": [
    {
     "name": "stdout",
     "output_type": "stream",
     "text": [
      "hello, alice\n"
     ]
    }
   ],
   "source": [
    "greet(name)"
   ]
  }
 ],
 "metadata": {
  "kernelspec": {
   "display_name": "Python [conda env:base] *",
   "language": "python",
   "name": "conda-base-py"
  },
  "language_info": {
   "codemirror_mode": {
    "name": "ipython",
    "version": 3
   },
   "file_extension": ".py",
   "mimetype": "text/x-python",
   "name": "python",
   "nbconvert_exporter": "python",
   "pygments_lexer": "ipython3",
   "version": "3.13.5"
  }
 },
 "nbformat": 4,
 "nbformat_minor": 5
}
