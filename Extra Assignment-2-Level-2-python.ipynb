{
 "cells": [
  {
   "cell_type": "code",
   "execution_count": 1,
   "id": "b0b3d388-2e07-426b-8e91-84f4acbae0b9",
   "metadata": {},
   "outputs": [
    {
     "name": "stdout",
     "output_type": "stream",
     "text": [
      "0\n",
      "1\n",
      "2\n",
      "3\n",
      "4\n",
      "5\n",
      "6\n",
      "7\n",
      "8\n",
      "9\n",
      "10\n",
      "11\n",
      "12\n",
      "13\n",
      "14\n",
      "15\n",
      "16\n",
      "17\n",
      "18\n",
      "19\n"
     ]
    }
   ],
   "source": [
    "#print 0 to 20 by using range\n",
    "\n",
    "for num in range(0,20):\n",
    "    print(num)"
   ]
  },
  {
   "cell_type": "code",
   "execution_count": 13,
   "id": "804aba39-fedf-48ad-92ac-8bc9f285dd01",
   "metadata": {},
   "outputs": [
    {
     "name": "stdout",
     "output_type": "stream",
     "text": [
      "10\n",
      "11\n",
      "12\n",
      "13\n",
      "14\n",
      "15\n",
      "16\n",
      "17\n",
      "18\n",
      "19\n"
     ]
    }
   ],
   "source": [
    "#print range 10 to 20\n",
    "\n",
    "for num in range ( 10,20):\n",
    "    print(num)"
   ]
  },
  {
   "cell_type": "code",
   "execution_count": 19,
   "id": "fef89817-c79c-4d18-8582-d0e9ed5f8b7b",
   "metadata": {},
   "outputs": [
    {
     "name": "stdout",
     "output_type": "stream",
     "text": [
      "[10, 20, 14, 55, 43, 87, 76]\n",
      "number of item in the lists: 7\n"
     ]
    }
   ],
   "source": [
    "#print number of items in the list by using 'len'\n",
    "\n",
    "lists=[10,20,14,55,43,87,76]\n",
    "print(lists)\n",
    "print('number of item in the lists:',len(lists))"
   ]
  },
  {
   "cell_type": "code",
   "execution_count": 24,
   "id": "3abc91c1-bf3e-4452-98ab-ffcab0e34ca6",
   "metadata": {},
   "outputs": [
    {
     "name": "stdout",
     "output_type": "stream",
     "text": [
      "A\n",
      "r\n",
      "t\n",
      "i\n",
      "f\n",
      "i\n",
      "c\n",
      "i\n",
      "a\n",
      "l\n",
      " \n",
      "I\n",
      "n\n",
      "t\n",
      "e\n",
      "l\n",
      "l\n",
      "i\n",
      "g\n",
      "e\n",
      "n\n",
      "c\n",
      "e\n"
     ]
    }
   ],
   "source": [
    "#\n",
    "\n",
    "text=\"Artificial Intelligence\"\n",
    "for char in text:\n",
    "    print(char)"
   ]
  },
  {
   "cell_type": "code",
   "execution_count": 32,
   "id": "73df58fc-ccea-45b4-9522-5949f09fb9f7",
   "metadata": {},
   "outputs": [
    {
     "name": "stdout",
     "output_type": "stream",
     "text": [
      "-your name- parthiban\n",
      "-your age- 24\n",
      "-your profession- student\n"
     ]
    }
   ],
   "source": [
    "name=('parthiban')\n",
    "print(\"-your name-\",name)\n",
    "age=24\n",
    "print(\"-your age-\",age)\n",
    "profession=('student')\n",
    "print(\"-your profession-\",profession)"
   ]
  },
  {
   "cell_type": "code",
   "execution_count": 39,
   "id": "99065149-898a-4ceb-8938-4a71c8edf5b9",
   "metadata": {},
   "outputs": [
    {
     "name": "stdout",
     "output_type": "stream",
     "text": [
      "(1, 'welcome', 2, 'hope')\n"
     ]
    }
   ],
   "source": [
    "#print this mixered datatype using tuples\n",
    "\n",
    "tuples=(1,'welcome',2, 'hope')\n",
    "print(tuples)"
   ]
  },
  {
   "cell_type": "code",
   "execution_count": 52,
   "id": "1d9ac0a7-063d-4939-b334-3acd99170b73",
   "metadata": {},
   "outputs": [
    {
     "name": "stdout",
     "output_type": "stream",
     "text": [
      "((0, 1, 2, 3, 4), ('python', 'hope'))\n"
     ]
    }
   ],
   "source": [
    "#tuples\n",
    "\n",
    "tup1=(0,1,2,3,4)\n",
    "tup2=('python','hope')\n",
    "tup3=(tup1),(tup2)\n",
    "print(tup3)"
   ]
  },
  {
   "cell_type": "code",
   "execution_count": 110,
   "id": "8123bda2-f377-4c39-bb27-fe0d9140fed4",
   "metadata": {},
   "outputs": [
    {
     "name": "stdout",
     "output_type": "stream",
     "text": [
      "19 is odd\n",
      "25 is odd\n",
      "1 is odd\n"
     ]
    }
   ],
   "source": [
    "#print odd number in the list\n",
    "\n",
    "lists=[20,10,16,19,25,1,276,188]\n",
    "for num in lists:\n",
    "    if (num%2)==1:\n",
    "        print(format(num),\"is odd\")\n",
    "\n",
    "\n",
    "\n"
   ]
  },
  {
   "cell_type": "code",
   "execution_count": 111,
   "id": "6768be5b-11c3-4466-bdb0-c2ce093dab36",
   "metadata": {},
   "outputs": [
    {
     "name": "stdout",
     "output_type": "stream",
     "text": [
      "20 is even\n",
      "10 is even\n",
      "16 is even\n",
      "276 is even\n",
      "188 is even\n"
     ]
    }
   ],
   "source": [
    "# print even number in the lists\n",
    "\n",
    "lists=[20,10,16,19,25,1,276,188]\n",
    "for num in lists:\n",
    "    if (num%2)==0:\n",
    "        print(format(num),\"is even\")"
   ]
  }
 ],
 "metadata": {
  "kernelspec": {
   "display_name": "Python [conda env:base] *",
   "language": "python",
   "name": "conda-base-py"
  },
  "language_info": {
   "codemirror_mode": {
    "name": "ipython",
    "version": 3
   },
   "file_extension": ".py",
   "mimetype": "text/x-python",
   "name": "python",
   "nbconvert_exporter": "python",
   "pygments_lexer": "ipython3",
   "version": "3.13.5"
  }
 },
 "nbformat": 4,
 "nbformat_minor": 5
}
