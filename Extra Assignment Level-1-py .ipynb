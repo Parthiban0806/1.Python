{
 "cells": [
  {
   "cell_type": "code",
   "execution_count": 2,
   "id": "2d437e4c-0a41-4bf3-801e-fad364c7aded",
   "metadata": {},
   "outputs": [
    {
     "name": "stdout",
     "output_type": "stream",
     "text": [
      "HOPE AI\n"
     ]
    }
   ],
   "source": [
    "#print statement\n",
    "\n",
    "print(\"HOPE AI\")\n"
   ]
  },
  {
   "cell_type": "code",
   "execution_count": 6,
   "id": "f7781081-defc-4140-9e62-0bc4ba02647e",
   "metadata": {},
   "outputs": [
    {
     "name": "stdin",
     "output_type": "stream",
     "text": [
      "enter your institute name? : HOPE AI\n"
     ]
    }
   ],
   "source": [
    "#BUY INPUT\n",
    "name=input(\"enter your institute name? :\")\n",
    "\n"
   ]
  },
  {
   "cell_type": "code",
   "execution_count": 9,
   "id": "eea50a8d-fa61-4cd3-a299-fa997bd93813",
   "metadata": {},
   "outputs": [
    {
     "name": "stdin",
     "output_type": "stream",
     "text": [
      "enter your name: RAJ\n",
      "enter your age: 15\n",
      "enter your school name : GURU School\n",
      "enter your degree : B.E CSE\n"
     ]
    }
   ],
   "source": [
    "# BUY INPUTS\n",
    "\n",
    "name=input(\"enter your name:\")\n",
    "age=input(\"enter your age:\")\n",
    "school=input(\"enter your school name :\")\n",
    "degree=input(\"enter your degree :\")\n"
   ]
  },
  {
   "cell_type": "code",
   "execution_count": 12,
   "id": "766655d7-b580-46c0-8d68-583959314302",
   "metadata": {},
   "outputs": [
    {
     "name": "stdout",
     "output_type": "stream",
     "text": [
      "a= 43\n",
      "b= 34\n",
      "add= 77\n"
     ]
    }
   ],
   "source": [
    "#ADDITION\n",
    "\n",
    "a=43\n",
    "print('a=',a)\n",
    "b=34\n",
    "print('b=',b)\n",
    "add=a+b\n",
    "print('add=',add)\n"
   ]
  },
  {
   "cell_type": "code",
   "execution_count": 13,
   "id": "777e03aa-8d4a-4303-a31c-887453a2e50e",
   "metadata": {},
   "outputs": [
    {
     "name": "stdout",
     "output_type": "stream",
     "text": [
      "a= 43\n",
      "b= 34\n",
      "sub= 9\n"
     ]
    }
   ],
   "source": [
    "#SUBTRACTION\n",
    "\n",
    "a=43\n",
    "print('a=',a)\n",
    "b=34\n",
    "print('b=',b)\n",
    "sub=a-b\n",
    "print('sub=',sub)"
   ]
  },
  {
   "cell_type": "code",
   "execution_count": 14,
   "id": "72ccf154-8f77-4e2e-9240-55c9cb52ae0f",
   "metadata": {},
   "outputs": [
    {
     "name": "stdout",
     "output_type": "stream",
     "text": [
      "a= 63\n",
      "b= 97\n",
      "mul= 6111\n"
     ]
    }
   ],
   "source": [
    "#MULTIPLICATION\n",
    "\n",
    "a=63\n",
    "print('a=',a)\n",
    "b=97\n",
    "print('b=',b)\n",
    "mul=a*b\n",
    "print('mul=',mul)\n"
   ]
  },
  {
   "cell_type": "code",
   "execution_count": 15,
   "id": "75c0d37a-b083-4ca6-905e-79c5fd3699c0",
   "metadata": {},
   "outputs": [
    {
     "name": "stdout",
     "output_type": "stream",
     "text": [
      "a= 76\n",
      "b= 31\n",
      "floor div= 2.4516129032258065\n"
     ]
    }
   ],
   "source": [
    "#DIVISION\n",
    "a=76\n",
    "print('a=',a)\n",
    "b=31\n",
    "print('b=',b)\n",
    "div=a/b\n",
    "print('floor div=',div)"
   ]
  },
  {
   "cell_type": "code",
   "execution_count": 23,
   "id": "7f8e255b-feaf-46e0-ac14-eb8d9628bed7",
   "metadata": {},
   "outputs": [
    {
     "name": "stdout",
     "output_type": "stream",
     "text": [
      "a= 76\n",
      "b= 31\n",
      "floor div= 2\n"
     ]
    }
   ],
   "source": [
    "#FLOOR DIVISION\n",
    "\n",
    "a=76\n",
    "print('a=',a)\n",
    "b=31\n",
    "print('b=',b)\n",
    "div=a//b\n",
    "print('floor div=',div)\n",
    "      "
   ]
  },
  {
   "cell_type": "code",
   "execution_count": 24,
   "id": "caa37216-bfad-45f3-a7e8-b45e02b41a38",
   "metadata": {},
   "outputs": [
    {
     "name": "stdout",
     "output_type": "stream",
     "text": [
      "a= 76\n",
      "b= 31\n",
      "modulo= 14\n"
     ]
    }
   ],
   "source": [
    "#MODULO\n",
    "\n",
    "a=76\n",
    "print('a=',a)\n",
    "b=31\n",
    "print('b=',b)\n",
    "modulo=a%b\n",
    "print('modulo=',modulo)"
   ]
  },
  {
   "cell_type": "code",
   "execution_count": 22,
   "id": "64cf4b07-619e-4f7b-98ea-4c78c24f1be5",
   "metadata": {},
   "outputs": [
    {
     "name": "stdout",
     "output_type": "stream",
     "text": [
      "a= 4\n",
      "b= 4\n",
      "power= 256\n"
     ]
    }
   ],
   "source": [
    "#POWER\n",
    "\n",
    "a=4\n",
    "print('a=',a)\n",
    "b=4\n",
    "print('b=',b)\n",
    "p=a**b\n",
    "print('power=',p)"
   ]
  }
 ],
 "metadata": {
  "kernelspec": {
   "display_name": "Python [conda env:base] *",
   "language": "python",
   "name": "conda-base-py"
  },
  "language_info": {
   "codemirror_mode": {
    "name": "ipython",
    "version": 3
   },
   "file_extension": ".py",
   "mimetype": "text/x-python",
   "name": "python",
   "nbconvert_exporter": "python",
   "pygments_lexer": "ipython3",
   "version": "3.13.5"
  }
 },
 "nbformat": 4,
 "nbformat_minor": 5
}
