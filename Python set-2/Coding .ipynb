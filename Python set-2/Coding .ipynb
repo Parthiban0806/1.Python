{
 "cells": [
  {
   "cell_type": "code",
   "execution_count": null,
   "id": "88fcabd7-f740-4ba9-a35a-e0466cfb4f6f",
   "metadata": {},
   "outputs": [],
   "source": [
    "1.Write a Python program to find the reverse of a string. Expected Output (for input \"hello\"):\n",
    "olleh"
   ]
  },
  {
   "cell_type": "code",
   "execution_count": 4,
   "id": "43018d5a-401b-4a27-bc28-579905a1bc9b",
   "metadata": {},
   "outputs": [
    {
     "name": "stdout",
     "output_type": "stream",
     "text": [
      "olleh\n"
     ]
    }
   ],
   "source": [
    "def text(s):\n",
    "    return s[::-1]\n",
    "print (text(\"hello\"))\n"
   ]
  },
  {
   "cell_type": "code",
   "execution_count": null,
   "id": "b99f037c-174f-4205-9242-02878fa09fcd",
   "metadata": {},
   "outputs": [],
   "source": [
    "2.Write a Python program to generate the Fibonacci sequence up to 10 terms.\n",
    "Expected Output:\n",
    "0 1 1 2 3 5 8 13 21 34"
   ]
  },
  {
   "cell_type": "code",
   "execution_count": 10,
   "id": "31205334-2981-4c7c-8b2b-90d6a3edd1d5",
   "metadata": {},
   "outputs": [],
   "source": [
    "def fibonacci(n):\n",
    "    sequence = [0,1]\n",
    "    for i in range(2,n):\n",
    "          sequence.append(sequence[-1] + sequence[-2])\n",
    "    return sequence\n"
   ]
  },
  {
   "cell_type": "code",
   "execution_count": 11,
   "id": "d31e6f96-a54d-4b9c-9b71-c03ff43669fc",
   "metadata": {},
   "outputs": [
    {
     "data": {
      "text/plain": [
       "[0, 1, 1, 2, 3, 5, 8, 13, 21, 34]"
      ]
     },
     "execution_count": 11,
     "metadata": {},
     "output_type": "execute_result"
    }
   ],
   "source": [
    "fibonacci(10)"
   ]
  },
  {
   "cell_type": "code",
   "execution_count": null,
   "id": "819f22e2-2524-4661-a849-99a0334d994e",
   "metadata": {},
   "outputs": [],
   "source": [
    "3.Write a Python function to check if a given string is a palindrome.\n",
    "Expected Output (for input \"madam\"):\n",
    "madam is a palindrome"
   ]
  },
  {
   "cell_type": "code",
   "execution_count": 16,
   "id": "f579bc57-aaac-4e8b-9932-1422066c2909",
   "metadata": {},
   "outputs": [
    {
     "name": "stdout",
     "output_type": "stream",
     "text": [
      "ram is a palindrome\n"
     ]
    }
   ],
   "source": [
    "def palindrome(s):\n",
    "    return s[::-1]\n",
    "\n",
    "text =\"ram\"\n",
    "if palindrome(text):\n",
    "    print (f{text}is a palindrome')\n",
    "else:\n",
    "    print (text,'is not a palimdrome')"
   ]
  },
  {
   "cell_type": "code",
   "execution_count": null,
   "id": "8c21013d-08b5-4a22-b44a-207f82cecde1",
   "metadata": {},
   "outputs": [],
   "source": [
    "\n",
    "4.Write a Python program to count the number of vowels in a given string. \n",
    "Expected Output (for input \"education\"):\n",
    "\n",
    "Number of vowels: 5"
   ]
  },
  {
   "cell_type": "code",
   "execution_count": 5,
   "id": "5148a63c-708c-45a5-84c0-79d1ad98d4ff",
   "metadata": {},
   "outputs": [
    {
     "name": "stdout",
     "output_type": "stream",
     "text": [
      "number of vowels: 5\n"
     ]
    }
   ],
   "source": [
    "def count_vowels(s):\n",
    "    vowels=\"aeiouAEIOU\"\n",
    "    return sum(1 for char in s if char in vowels)\n",
    "print(\"number of vowels:\",count_vowels(\"education\"))"
   ]
  },
  {
   "cell_type": "code",
   "execution_count": null,
   "id": "5b6854f9-cf65-4f93-b722-7ea6bb51293e",
   "metadata": {},
   "outputs": [],
   "source": [
    "5.Write a Python program to remove duplicates from a list.\n",
    "Expected Output (for input [1, 2, 2, 3, 4, 4, 5]):\n",
    "\n",
    " [1, 2, 3, 4, 5]"
   ]
  },
  {
   "cell_type": "code",
   "execution_count": 13,
   "id": "d13f0f85-537e-4578-a2be-302137eaeb10",
   "metadata": {},
   "outputs": [
    {
     "name": "stdout",
     "output_type": "stream",
     "text": [
      "[1, 2, 3, 4, 5, 6]\n"
     ]
    }
   ],
   "source": [
    "def dulicate(n):\n",
    "     return list(set(n))\n",
    "print (dulicate([1,2,2,3,4,4,5,6,6]))"
   ]
  },
  {
   "cell_type": "code",
   "execution_count": null,
   "id": "f1729ccf-0a9b-49f3-ac58-6f31dafb8d60",
   "metadata": {},
   "outputs": [],
   "source": []
  }
 ],
 "metadata": {
  "kernelspec": {
   "display_name": "Python [conda env:base] *",
   "language": "python",
   "name": "conda-base-py"
  },
  "language_info": {
   "codemirror_mode": {
    "name": "ipython",
    "version": 3
   },
   "file_extension": ".py",
   "mimetype": "text/x-python",
   "name": "python",
   "nbconvert_exporter": "python",
   "pygments_lexer": "ipython3",
   "version": "3.13.5"
  }
 },
 "nbformat": 4,
 "nbformat_minor": 5
}
