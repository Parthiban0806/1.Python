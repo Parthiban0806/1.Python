{
 "cells": [
  {
   "cell_type": "code",
   "execution_count": null,
   "id": "99d6066f-8755-4167-bcb7-177aca1101df",
   "metadata": {},
   "outputs": [],
   "source": [
    "#1.What is wrong with the following function definition, and how do you fix it?\n",
    "\n",
    "\n",
    "def say_hello(name)\n",
    "    print(\"Hello, \" + name)"
   ]
  },
  {
   "cell_type": "code",
   "execution_count": 45,
   "id": "097a52bb-edbc-4247-9dfe-ab3a68532337",
   "metadata": {},
   "outputs": [
    {
     "name": "stdout",
     "output_type": "stream",
     "text": [
      "Hello,parthi\n"
     ]
    }
   ],
   "source": [
    "#Corrected \n",
    "\n",
    "def say_hello(name):\n",
    "    print(\"Hello,\" + name)\n",
    "    \n",
    "say_hello(\"parthi\")"
   ]
  },
  {
   "cell_type": "code",
   "execution_count": null,
   "id": "a8f909a9-c52c-4249-8f6d-33db3a1a0b74",
   "metadata": {},
   "outputs": [],
   "source": [
    "#2.What error will occur in the following code, and how do you fix it?\n",
    "\n",
    "\n",
    "age = 25\n",
    "print(\"I am \" + age + \" years old\")"
   ]
  },
  {
   "cell_type": "code",
   "execution_count": 1,
   "id": "04939be6-0209-4de7-a40e-5daf4c877b4e",
   "metadata": {},
   "outputs": [
    {
     "name": "stdout",
     "output_type": "stream",
     "text": [
      "I am  25  years old\n"
     ]
    }
   ],
   "source": [
    "#Corrected \n",
    "\n",
    "age = 25\n",
    "print(\"I am \",  age ,\" years old\")"
   ]
  },
  {
   "cell_type": "code",
   "execution_count": null,
   "id": "4d879215-23a3-4b03-b8ba-65edefcb01e4",
   "metadata": {},
   "outputs": [],
   "source": [
    "#3.Question:\n",
    "What is the issue with the following code?\n",
    "\n",
    "def greet():\n",
    "    message = \"Hello\"\n",
    "print(message)"
   ]
  },
  {
   "cell_type": "code",
   "execution_count": 38,
   "id": "b11bfbc4-d2ff-4946-94ba-7cd34f799d57",
   "metadata": {},
   "outputs": [],
   "source": [
    "#Corrected \n",
    "\n",
    "def greet():\n",
    "    message = (\"Hello\")\n",
    "    print (greet(message))\n"
   ]
  },
  {
   "cell_type": "code",
   "execution_count": null,
   "id": "c60f6a23-5ea3-407b-8732-35f381915502",
   "metadata": {},
   "outputs": [],
   "source": [
    "#4.What error will occur in the following code, and how do you fix it?\n",
    "\n",
    "def add(a, b):\n",
    "    return a + b\n",
    "\n",
    "print(add(5))\n"
   ]
  },
  {
   "cell_type": "code",
   "execution_count": 10,
   "id": "234d82e8-8672-436c-b29d-796b445810b4",
   "metadata": {},
   "outputs": [
    {
     "name": "stdout",
     "output_type": "stream",
     "text": [
      "11\n"
     ]
    }
   ],
   "source": [
    "#Corrected \n",
    "\n",
    "def add(a, b):\n",
    "    return (a + b)\n",
    "\n",
    "print(add(5,6))"
   ]
  },
  {
   "cell_type": "code",
   "execution_count": null,
   "id": "5da4c63f-f7cd-435e-ba71-04548cd9fd8d",
   "metadata": {},
   "outputs": [],
   "source": [
    "#5.What is wrong with this code?\n",
    "\n",
    "def is_even(n):\n",
    "    if n % 2 == 1:\n",
    "        return True\n",
    "    else:\n",
    "        return False"
   ]
  },
  {
   "cell_type": "code",
   "execution_count": 19,
   "id": "c91d11aa-3ed7-44ab-acbb-d8ffda3337c9",
   "metadata": {},
   "outputs": [],
   "source": [
    "#Corrected \n",
    "def is_even(n):\n",
    "    if n % 2 == 1:\n",
    "        return True\n",
    "    else:\n",
    "        return False\n",
    "              "
   ]
  },
  {
   "cell_type": "code",
   "execution_count": 20,
   "id": "f3d1204a-b8e5-4705-8e7c-112dfb687e26",
   "metadata": {},
   "outputs": [
    {
     "data": {
      "text/plain": [
       "False"
      ]
     },
     "execution_count": 20,
     "metadata": {},
     "output_type": "execute_result"
    }
   ],
   "source": [
    "is_even(6)"
   ]
  },
  {
   "cell_type": "code",
   "execution_count": null,
   "id": "6ced34d3-ed8b-49e9-948e-bf82900ec750",
   "metadata": {},
   "outputs": [],
   "source": [
    "#6.What happens when you run this code?\n",
    "\n",
    "num = int(\"10a\")\n",
    "print(num)"
   ]
  },
  {
   "cell_type": "code",
   "execution_count": 22,
   "id": "79ae5ab8-450c-432a-9227-79784f3a6427",
   "metadata": {},
   "outputs": [
    {
     "name": "stdout",
     "output_type": "stream",
     "text": [
      "10\n"
     ]
    }
   ],
   "source": [
    "num = int(\"10\")\n",
    "print(num)"
   ]
  },
  {
   "cell_type": "code",
   "execution_count": 34,
   "id": "25ac90ca-2dbc-4250-9423-4bf63476c8a8",
   "metadata": {},
   "outputs": [
    {
     "name": "stdout",
     "output_type": "stream",
     "text": [
      "[1, 2, 3, 4]\n"
     ]
    }
   ],
   "source": [
    "#7.What will happen when you run the following code?\n",
    "\n",
    "#Corrected \n",
    "numbers = [1, 2, 3, 4]\n",
    "numbers.sort()\n",
    "print(numbers)"
   ]
  },
  {
   "cell_type": "code",
   "execution_count": null,
   "id": "867311ce-2605-4c46-bb91-dc1675171c63",
   "metadata": {},
   "outputs": [],
   "source": []
  },
  {
   "cell_type": "code",
   "execution_count": 24,
   "id": "f86c9171-dd66-4301-8cfa-8541e46d9fe2",
   "metadata": {},
   "outputs": [
    {
     "name": "stdout",
     "output_type": "stream",
     "text": [
      "[1, 2, 3, 4]\n"
     ]
    }
   ],
   "source": [
    "#8.What is the issue with this code?\n",
    "\n",
    "#Corrected \n",
    "numbers = [1, 2, 3]\n",
    "numbers.append(4)\n",
    "print(numbers)\n"
   ]
  },
  {
   "cell_type": "code",
   "execution_count": null,
   "id": "f3b02778-d125-4771-b3a0-35f118a5d774",
   "metadata": {},
   "outputs": [],
   "source": []
  },
  {
   "cell_type": "code",
   "execution_count": null,
   "id": "2b808dc7-fb03-476c-b260-b1323aac85fb",
   "metadata": {},
   "outputs": [],
   "source": [
    "#9.What will happen when you run the following code?\n",
    "\n",
    "\n",
    "count = 10\n",
    "\n",
    "def increment():\n",
    "    count += 1\n",
    "    print(count)\n",
    "\n",
    "increment()"
   ]
  },
  {
   "cell_type": "code",
   "execution_count": 29,
   "id": "37d8784f-e509-4760-9e38-d7dac1d8ea97",
   "metadata": {},
   "outputs": [
    {
     "name": "stdout",
     "output_type": "stream",
     "text": [
      "11\n"
     ]
    }
   ],
   "source": [
    "#Corrected \n",
    "\n",
    "def increment():\n",
    "    count = 10\n",
    "    count += 1\n",
    "    print(count)\n",
    "\n",
    "increment()"
   ]
  },
  {
   "cell_type": "code",
   "execution_count": 33,
   "id": "f948c651-3f60-44f9-9501-4bf7718fd00d",
   "metadata": {},
   "outputs": [
    {
     "name": "stdout",
     "output_type": "stream",
     "text": [
      "Python [10]\n"
     ]
    }
   ],
   "source": [
    "#10.What error will occur in the following code?\n",
    "#Corrected \n",
    "text = \"Python\"\n",
    "print(text,[10])\n"
   ]
  },
  {
   "cell_type": "code",
   "execution_count": null,
   "id": "5353286d-935a-4e31-9089-2694ffd42e37",
   "metadata": {},
   "outputs": [],
   "source": []
  }
 ],
 "metadata": {
  "kernelspec": {
   "display_name": "Python [conda env:base] *",
   "language": "python",
   "name": "conda-base-py"
  },
  "language_info": {
   "codemirror_mode": {
    "name": "ipython",
    "version": 3
   },
   "file_extension": ".py",
   "mimetype": "text/x-python",
   "name": "python",
   "nbconvert_exporter": "python",
   "pygments_lexer": "ipython3",
   "version": "3.13.5"
  }
 },
 "nbformat": 4,
 "nbformat_minor": 5
}
