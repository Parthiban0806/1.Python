{
 "cells": [
  {
   "cell_type": "code",
   "execution_count": null,
   "id": "ad5d73cd-fd33-4ae5-9596-f4384c1e5809",
   "metadata": {},
   "outputs": [],
   "source": [
    "#1. Square of Numbers from 1 to 5\n",
    "Output:\n",
    "1 4 9 16 25"
   ]
  },
  {
   "cell_type": "code",
   "execution_count": 7,
   "id": "a7e46139-004f-49ec-98dc-256b8540cd68",
   "metadata": {},
   "outputs": [
    {
     "name": "stdout",
     "output_type": "stream",
     "text": [
      "1 4 9 16 25 "
     ]
    }
   ],
   "source": [
    "for num in range(1,6):\n",
    "    print(num*num,end=\" \")\n"
   ]
  },
  {
   "cell_type": "code",
   "execution_count": null,
   "id": "c5d626af-34c9-4dc8-bc3b-3d0f705bd826",
   "metadata": {},
   "outputs": [],
   "source": [
    "#2.Swap Two Variables Without Using a Temporary Variable\n",
    "Question: Write a Python program to swap two variables a = 5 and b = 10 without using a temporary variable.\n"
   ]
  },
  {
   "cell_type": "code",
   "execution_count": 9,
   "id": "1c45564f-31d1-434d-a105-4bb73adeaedb",
   "metadata": {},
   "outputs": [
    {
     "name": "stdout",
     "output_type": "stream",
     "text": [
      "a= 10 b= 5\n"
     ]
    }
   ],
   "source": [
    "a=5\n",
    "b=10\n",
    "a=a+b\n",
    "b=a-b\n",
    "a=a-b\n",
    "print(\"a=\",a,\"b=\",b)"
   ]
  },
  {
   "cell_type": "code",
   "execution_count": null,
   "id": "7f0c6401-9224-45be-b580-449ff81fa6b1",
   "metadata": {},
   "outputs": [],
   "source": [
    " #3.Find Even and Odd Numbers in a List\n",
    "Question: Write a Python program to separate even and odd numbers from the list [12, 17, 19, 24, 35, 40, 56]."
   ]
  },
  {
   "cell_type": "code",
   "execution_count": 20,
   "id": "7742204a-0b84-455e-b8bd-36dc07b8b138",
   "metadata": {},
   "outputs": [
    {
     "name": "stdout",
     "output_type": "stream",
     "text": [
      "[12, 24, 40, 56]\n",
      "[17, 19, 35]\n"
     ]
    }
   ],
   "source": [
    "list= [12, 17, 19, 24, 35, 40, 56]\n",
    "even=[]\n",
    "odd=[]\n",
    "for i in list:\n",
    "    if i % 2 ==0:\n",
    "        even.append(i)\n",
    "    else:\n",
    "        odd.append(i)\n",
    "print(even)\n",
    "print(odd)"
   ]
  },
  {
   "cell_type": "code",
   "execution_count": null,
   "id": "a676dc88-1959-4035-ae52-04511e1dffb7",
   "metadata": {},
   "outputs": [],
   "source": [
    "#4. Reverse a Number\n",
    "Question: Write a Python program to reverse the number 12345."
   ]
  },
  {
   "cell_type": "code",
   "execution_count": 21,
   "id": "fbff7bca-49ba-47d3-87e4-d25cbfd847dd",
   "metadata": {},
   "outputs": [
    {
     "name": "stdout",
     "output_type": "stream",
     "text": [
      "54321\n"
     ]
    }
   ],
   "source": [
    "num=12345\n",
    "num_str=str(num)\n",
    "reverse=num_str[::-1]\n",
    "value=int(reverse)\n",
    "print(value)\n"
   ]
  },
  {
   "cell_type": "code",
   "execution_count": null,
   "id": "49c61c9c-6a29-479f-b5d3-3061359594ec",
   "metadata": {},
   "outputs": [],
   "source": [
    "#5. Find the Second Largest Number in a List\n",
    "#Question: Write a Python program to find the second largest number in the list [12, 45, 98, 34, 23].\n"
   ]
  },
  {
   "cell_type": "code",
   "execution_count": 38,
   "id": "f6b6142f-647f-452c-bc46-f3d69da047b8",
   "metadata": {},
   "outputs": [
    {
     "name": "stdout",
     "output_type": "stream",
     "text": [
      "45\n"
     ]
    }
   ],
   "source": [
    "lists =  [12, 45, 98, 34, 23]\n",
    "lists2 = sorted(lists)\n",
    "second_largest = lists2[-2]\n",
    "print(second_largest)"
   ]
  },
  {
   "cell_type": "code",
   "execution_count": null,
   "id": "373f8da1-1c3f-4696-8238-6a5598b07f77",
   "metadata": {},
   "outputs": [],
   "source": []
  }
 ],
 "metadata": {
  "kernelspec": {
   "display_name": "Python [conda env:base] *",
   "language": "python",
   "name": "conda-base-py"
  },
  "language_info": {
   "codemirror_mode": {
    "name": "ipython",
    "version": 3
   },
   "file_extension": ".py",
   "mimetype": "text/x-python",
   "name": "python",
   "nbconvert_exporter": "python",
   "pygments_lexer": "ipython3",
   "version": "3.13.5"
  }
 },
 "nbformat": 4,
 "nbformat_minor": 5
}
